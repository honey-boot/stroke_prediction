{
 "cells": [
  {
   "cell_type": "code",
   "execution_count": 1,
   "id": "958cee97",
   "metadata": {},
   "outputs": [],
   "source": [
    "import pandas as pd"
   ]
  },
  {
   "cell_type": "code",
   "execution_count": 15,
   "id": "907c7585",
   "metadata": {},
   "outputs": [],
   "source": [
    "df1=pd.read_csv(r\"A:\\THENMOZHI\\100data_set\\healthcare-dataset-stroke-data.csv\")\n",
    "\n"
   ]
  },
  {
   "cell_type": "code",
   "execution_count": 16,
   "id": "73ef6f17",
   "metadata": {},
   "outputs": [
    {
     "data": {
      "text/html": [
       "<div>\n",
       "<style scoped>\n",
       "    .dataframe tbody tr th:only-of-type {\n",
       "        vertical-align: middle;\n",
       "    }\n",
       "\n",
       "    .dataframe tbody tr th {\n",
       "        vertical-align: top;\n",
       "    }\n",
       "\n",
       "    .dataframe thead th {\n",
       "        text-align: right;\n",
       "    }\n",
       "</style>\n",
       "<table border=\"1\" class=\"dataframe\">\n",
       "  <thead>\n",
       "    <tr style=\"text-align: right;\">\n",
       "      <th></th>\n",
       "      <th>id</th>\n",
       "      <th>gender</th>\n",
       "      <th>age</th>\n",
       "      <th>hypertension</th>\n",
       "      <th>heart_disease</th>\n",
       "      <th>ever_married</th>\n",
       "      <th>work_type</th>\n",
       "      <th>Residence_type</th>\n",
       "      <th>avg_glucose_level</th>\n",
       "      <th>bmi</th>\n",
       "      <th>smoking_status</th>\n",
       "      <th>stroke</th>\n",
       "    </tr>\n",
       "  </thead>\n",
       "  <tbody>\n",
       "    <tr>\n",
       "      <th>0</th>\n",
       "      <td>9046</td>\n",
       "      <td>Male</td>\n",
       "      <td>67.0</td>\n",
       "      <td>0</td>\n",
       "      <td>1</td>\n",
       "      <td>Yes</td>\n",
       "      <td>Private</td>\n",
       "      <td>Urban</td>\n",
       "      <td>228.69</td>\n",
       "      <td>36.6</td>\n",
       "      <td>formerly smoked</td>\n",
       "      <td>1</td>\n",
       "    </tr>\n",
       "    <tr>\n",
       "      <th>1</th>\n",
       "      <td>51676</td>\n",
       "      <td>Female</td>\n",
       "      <td>61.0</td>\n",
       "      <td>0</td>\n",
       "      <td>0</td>\n",
       "      <td>Yes</td>\n",
       "      <td>Self-employed</td>\n",
       "      <td>Rural</td>\n",
       "      <td>202.21</td>\n",
       "      <td>NaN</td>\n",
       "      <td>never smoked</td>\n",
       "      <td>1</td>\n",
       "    </tr>\n",
       "    <tr>\n",
       "      <th>2</th>\n",
       "      <td>31112</td>\n",
       "      <td>Male</td>\n",
       "      <td>80.0</td>\n",
       "      <td>0</td>\n",
       "      <td>1</td>\n",
       "      <td>Yes</td>\n",
       "      <td>Private</td>\n",
       "      <td>Rural</td>\n",
       "      <td>105.92</td>\n",
       "      <td>32.5</td>\n",
       "      <td>never smoked</td>\n",
       "      <td>1</td>\n",
       "    </tr>\n",
       "    <tr>\n",
       "      <th>3</th>\n",
       "      <td>60182</td>\n",
       "      <td>Female</td>\n",
       "      <td>49.0</td>\n",
       "      <td>0</td>\n",
       "      <td>0</td>\n",
       "      <td>Yes</td>\n",
       "      <td>Private</td>\n",
       "      <td>Urban</td>\n",
       "      <td>171.23</td>\n",
       "      <td>34.4</td>\n",
       "      <td>smokes</td>\n",
       "      <td>1</td>\n",
       "    </tr>\n",
       "    <tr>\n",
       "      <th>4</th>\n",
       "      <td>1665</td>\n",
       "      <td>Female</td>\n",
       "      <td>79.0</td>\n",
       "      <td>1</td>\n",
       "      <td>0</td>\n",
       "      <td>Yes</td>\n",
       "      <td>Self-employed</td>\n",
       "      <td>Rural</td>\n",
       "      <td>174.12</td>\n",
       "      <td>24.0</td>\n",
       "      <td>never smoked</td>\n",
       "      <td>1</td>\n",
       "    </tr>\n",
       "  </tbody>\n",
       "</table>\n",
       "</div>"
      ],
      "text/plain": [
       "      id  gender   age  hypertension  heart_disease ever_married  \\\n",
       "0   9046    Male  67.0             0              1          Yes   \n",
       "1  51676  Female  61.0             0              0          Yes   \n",
       "2  31112    Male  80.0             0              1          Yes   \n",
       "3  60182  Female  49.0             0              0          Yes   \n",
       "4   1665  Female  79.0             1              0          Yes   \n",
       "\n",
       "       work_type Residence_type  avg_glucose_level   bmi   smoking_status  \\\n",
       "0        Private          Urban             228.69  36.6  formerly smoked   \n",
       "1  Self-employed          Rural             202.21   NaN     never smoked   \n",
       "2        Private          Rural             105.92  32.5     never smoked   \n",
       "3        Private          Urban             171.23  34.4           smokes   \n",
       "4  Self-employed          Rural             174.12  24.0     never smoked   \n",
       "\n",
       "   stroke  \n",
       "0       1  \n",
       "1       1  \n",
       "2       1  \n",
       "3       1  \n",
       "4       1  "
      ]
     },
     "execution_count": 16,
     "metadata": {},
     "output_type": "execute_result"
    }
   ],
   "source": [
    "df1.head()"
   ]
  },
  {
   "cell_type": "code",
   "execution_count": null,
   "id": "e9164acc",
   "metadata": {},
   "outputs": [
    {
     "data": {
      "text/plain": [
       "Index(['id', 'gender', 'age', 'hypertension', 'heart_disease', 'ever_married',\n",
       "       'work_type', 'Residence_type', 'avg_glucose_level', 'bmi',\n",
       "       'smoking_status', 'stroke'],\n",
       "      dtype='object')"
      ]
     },
     "execution_count": 4,
     "metadata": {},
     "output_type": "execute_result"
    }
   ],
   "source": [
    "df1.columns"
   ]
  },
  {
   "cell_type": "code",
   "execution_count": null,
   "id": "ae49aed1",
   "metadata": {},
   "outputs": [
    {
     "name": "stdout",
     "output_type": "stream",
     "text": [
      "<class 'pandas.core.frame.DataFrame'>\n",
      "RangeIndex: 5110 entries, 0 to 5109\n",
      "Data columns (total 12 columns):\n",
      " #   Column             Non-Null Count  Dtype  \n",
      "---  ------             --------------  -----  \n",
      " 0   id                 5110 non-null   int64  \n",
      " 1   gender             5110 non-null   object \n",
      " 2   age                5110 non-null   float64\n",
      " 3   hypertension       5110 non-null   int64  \n",
      " 4   heart_disease      5110 non-null   int64  \n",
      " 5   ever_married       5110 non-null   object \n",
      " 6   work_type          5110 non-null   object \n",
      " 7   Residence_type     5110 non-null   object \n",
      " 8   avg_glucose_level  5110 non-null   float64\n",
      " 9   bmi                4909 non-null   float64\n",
      " 10  smoking_status     5110 non-null   object \n",
      " 11  stroke             5110 non-null   int64  \n",
      "dtypes: float64(3), int64(4), object(5)\n",
      "memory usage: 479.2+ KB\n"
     ]
    }
   ],
   "source": [
    "df1.info()"
   ]
  },
  {
   "cell_type": "code",
   "execution_count": null,
   "id": "9c7aa9db",
   "metadata": {},
   "outputs": [
    {
     "data": {
      "text/plain": [
       "array(['Male', 'Female', 'Other'], dtype=object)"
      ]
     },
     "execution_count": 6,
     "metadata": {},
     "output_type": "execute_result"
    }
   ],
   "source": [
    "df1[\"gender\"].unique()"
   ]
  },
  {
   "cell_type": "code",
   "execution_count": null,
   "id": "e0c070bd",
   "metadata": {},
   "outputs": [
    {
     "data": {
      "text/plain": [
       "array(['Yes', 'No'], dtype=object)"
      ]
     },
     "execution_count": 7,
     "metadata": {},
     "output_type": "execute_result"
    }
   ],
   "source": [
    "df1.ever_married.unique()"
   ]
  },
  {
   "cell_type": "code",
   "execution_count": null,
   "id": "b7a5a104",
   "metadata": {},
   "outputs": [
    {
     "data": {
      "text/plain": [
       "array(['Private', 'Self-employed', 'Govt_job', 'children', 'Never_worked'],\n",
       "      dtype=object)"
      ]
     },
     "execution_count": 8,
     "metadata": {},
     "output_type": "execute_result"
    }
   ],
   "source": [
    "df1.work_type.unique()"
   ]
  },
  {
   "cell_type": "code",
   "execution_count": null,
   "id": "13272bf4",
   "metadata": {},
   "outputs": [
    {
     "data": {
      "text/plain": [
       "array(['Urban', 'Rural'], dtype=object)"
      ]
     },
     "execution_count": 9,
     "metadata": {},
     "output_type": "execute_result"
    }
   ],
   "source": [
    "df1.Residence_type.unique()"
   ]
  },
  {
   "cell_type": "code",
   "execution_count": null,
   "id": "e2d1393f",
   "metadata": {},
   "outputs": [
    {
     "data": {
      "text/plain": [
       "array(['formerly smoked', 'never smoked', 'smokes', 'Unknown'],\n",
       "      dtype=object)"
      ]
     },
     "execution_count": 10,
     "metadata": {},
     "output_type": "execute_result"
    }
   ],
   "source": [
    "df1.smoking_status.unique()"
   ]
  },
  {
   "cell_type": "code",
   "execution_count": 20,
   "id": "3c20cf23",
   "metadata": {},
   "outputs": [
    {
     "data": {
      "text/plain": [
       "id                   0\n",
       "gender               0\n",
       "age                  0\n",
       "hypertension         0\n",
       "heart_disease        0\n",
       "ever_married         0\n",
       "work_type            0\n",
       "Residence_type       0\n",
       "avg_glucose_level    0\n",
       "bmi                  0\n",
       "smoking_status       0\n",
       "stroke               0\n",
       "dtype: int64"
      ]
     },
     "execution_count": 20,
     "metadata": {},
     "output_type": "execute_result"
    }
   ],
   "source": [
    "df1.isnull().sum()"
   ]
  },
  {
   "cell_type": "code",
   "execution_count": 19,
   "id": "6e5ee982",
   "metadata": {},
   "outputs": [],
   "source": [
    "df1[\"bmi\"]=df1[\"bmi\"].fillna(df1[\"bmi\"].mean())"
   ]
  },
  {
   "cell_type": "code",
   "execution_count": 23,
   "id": "4928ca9d",
   "metadata": {},
   "outputs": [
    {
     "data": {
      "text/plain": [
       "np.int64(0)"
      ]
     },
     "execution_count": 23,
     "metadata": {},
     "output_type": "execute_result"
    }
   ],
   "source": [
    "df1.duplicated().sum()"
   ]
  },
  {
   "cell_type": "code",
   "execution_count": 26,
   "id": "b05b7053",
   "metadata": {},
   "outputs": [
    {
     "data": {
      "text/plain": [
       "((5110, 12), 61320)"
      ]
     },
     "execution_count": 26,
     "metadata": {},
     "output_type": "execute_result"
    }
   ],
   "source": [
    "df1.shape,df1.size"
   ]
  },
  {
   "cell_type": "code",
   "execution_count": 27,
   "id": "42d3c39f",
   "metadata": {},
   "outputs": [],
   "source": [
    "df1.to_csv(\"cleaned_stroke.csv\")"
   ]
  },
  {
   "cell_type": "code",
   "execution_count": 28,
   "id": "ac2a4b83",
   "metadata": {},
   "outputs": [
    {
     "data": {
      "text/html": [
       "<div>\n",
       "<style scoped>\n",
       "    .dataframe tbody tr th:only-of-type {\n",
       "        vertical-align: middle;\n",
       "    }\n",
       "\n",
       "    .dataframe tbody tr th {\n",
       "        vertical-align: top;\n",
       "    }\n",
       "\n",
       "    .dataframe thead th {\n",
       "        text-align: right;\n",
       "    }\n",
       "</style>\n",
       "<table border=\"1\" class=\"dataframe\">\n",
       "  <thead>\n",
       "    <tr style=\"text-align: right;\">\n",
       "      <th></th>\n",
       "      <th>id</th>\n",
       "      <th>gender</th>\n",
       "      <th>age</th>\n",
       "      <th>hypertension</th>\n",
       "      <th>heart_disease</th>\n",
       "      <th>ever_married</th>\n",
       "      <th>work_type</th>\n",
       "      <th>Residence_type</th>\n",
       "      <th>avg_glucose_level</th>\n",
       "      <th>bmi</th>\n",
       "      <th>smoking_status</th>\n",
       "      <th>stroke</th>\n",
       "    </tr>\n",
       "  </thead>\n",
       "  <tbody>\n",
       "    <tr>\n",
       "      <th>0</th>\n",
       "      <td>9046</td>\n",
       "      <td>Male</td>\n",
       "      <td>67.0</td>\n",
       "      <td>0</td>\n",
       "      <td>1</td>\n",
       "      <td>Yes</td>\n",
       "      <td>Private</td>\n",
       "      <td>Urban</td>\n",
       "      <td>228.69</td>\n",
       "      <td>36.600000</td>\n",
       "      <td>formerly smoked</td>\n",
       "      <td>1</td>\n",
       "    </tr>\n",
       "    <tr>\n",
       "      <th>1</th>\n",
       "      <td>51676</td>\n",
       "      <td>Female</td>\n",
       "      <td>61.0</td>\n",
       "      <td>0</td>\n",
       "      <td>0</td>\n",
       "      <td>Yes</td>\n",
       "      <td>Self-employed</td>\n",
       "      <td>Rural</td>\n",
       "      <td>202.21</td>\n",
       "      <td>28.893237</td>\n",
       "      <td>never smoked</td>\n",
       "      <td>1</td>\n",
       "    </tr>\n",
       "    <tr>\n",
       "      <th>2</th>\n",
       "      <td>31112</td>\n",
       "      <td>Male</td>\n",
       "      <td>80.0</td>\n",
       "      <td>0</td>\n",
       "      <td>1</td>\n",
       "      <td>Yes</td>\n",
       "      <td>Private</td>\n",
       "      <td>Rural</td>\n",
       "      <td>105.92</td>\n",
       "      <td>32.500000</td>\n",
       "      <td>never smoked</td>\n",
       "      <td>1</td>\n",
       "    </tr>\n",
       "    <tr>\n",
       "      <th>3</th>\n",
       "      <td>60182</td>\n",
       "      <td>Female</td>\n",
       "      <td>49.0</td>\n",
       "      <td>0</td>\n",
       "      <td>0</td>\n",
       "      <td>Yes</td>\n",
       "      <td>Private</td>\n",
       "      <td>Urban</td>\n",
       "      <td>171.23</td>\n",
       "      <td>34.400000</td>\n",
       "      <td>smokes</td>\n",
       "      <td>1</td>\n",
       "    </tr>\n",
       "    <tr>\n",
       "      <th>4</th>\n",
       "      <td>1665</td>\n",
       "      <td>Female</td>\n",
       "      <td>79.0</td>\n",
       "      <td>1</td>\n",
       "      <td>0</td>\n",
       "      <td>Yes</td>\n",
       "      <td>Self-employed</td>\n",
       "      <td>Rural</td>\n",
       "      <td>174.12</td>\n",
       "      <td>24.000000</td>\n",
       "      <td>never smoked</td>\n",
       "      <td>1</td>\n",
       "    </tr>\n",
       "  </tbody>\n",
       "</table>\n",
       "</div>"
      ],
      "text/plain": [
       "      id  gender   age  hypertension  heart_disease ever_married  \\\n",
       "0   9046    Male  67.0             0              1          Yes   \n",
       "1  51676  Female  61.0             0              0          Yes   \n",
       "2  31112    Male  80.0             0              1          Yes   \n",
       "3  60182  Female  49.0             0              0          Yes   \n",
       "4   1665  Female  79.0             1              0          Yes   \n",
       "\n",
       "       work_type Residence_type  avg_glucose_level        bmi  \\\n",
       "0        Private          Urban             228.69  36.600000   \n",
       "1  Self-employed          Rural             202.21  28.893237   \n",
       "2        Private          Rural             105.92  32.500000   \n",
       "3        Private          Urban             171.23  34.400000   \n",
       "4  Self-employed          Rural             174.12  24.000000   \n",
       "\n",
       "    smoking_status  stroke  \n",
       "0  formerly smoked       1  \n",
       "1     never smoked       1  \n",
       "2     never smoked       1  \n",
       "3           smokes       1  \n",
       "4     never smoked       1  "
      ]
     },
     "execution_count": 28,
     "metadata": {},
     "output_type": "execute_result"
    }
   ],
   "source": [
    "df1.head()"
   ]
  },
  {
   "cell_type": "code",
   "execution_count": 29,
   "id": "ed1f1993",
   "metadata": {},
   "outputs": [
    {
     "name": "stdout",
     "output_type": "stream",
     "text": [
      "<class 'pandas.core.frame.DataFrame'>\n",
      "RangeIndex: 5110 entries, 0 to 5109\n",
      "Data columns (total 12 columns):\n",
      " #   Column             Non-Null Count  Dtype  \n",
      "---  ------             --------------  -----  \n",
      " 0   id                 5110 non-null   int64  \n",
      " 1   gender             5110 non-null   object \n",
      " 2   age                5110 non-null   float64\n",
      " 3   hypertension       5110 non-null   int64  \n",
      " 4   heart_disease      5110 non-null   int64  \n",
      " 5   ever_married       5110 non-null   object \n",
      " 6   work_type          5110 non-null   object \n",
      " 7   Residence_type     5110 non-null   object \n",
      " 8   avg_glucose_level  5110 non-null   float64\n",
      " 9   bmi                5110 non-null   float64\n",
      " 10  smoking_status     5110 non-null   object \n",
      " 11  stroke             5110 non-null   int64  \n",
      "dtypes: float64(3), int64(4), object(5)\n",
      "memory usage: 479.2+ KB\n"
     ]
    }
   ],
   "source": [
    "df1.info()"
   ]
  },
  {
   "cell_type": "code",
   "execution_count": 30,
   "id": "bafc57ca",
   "metadata": {},
   "outputs": [],
   "source": [
    "from sklearn.preprocessing import LabelEncoder"
   ]
  },
  {
   "cell_type": "code",
   "execution_count": 31,
   "id": "fb42693e",
   "metadata": {},
   "outputs": [],
   "source": [
    "label=LabelEncoder()\n",
    "for i in df1.select_dtypes(include=\"object\").columns:\n",
    "    df1[i]=label.fit_transform(df1[i])"
   ]
  },
  {
   "cell_type": "code",
   "execution_count": 32,
   "id": "1e3d41f1",
   "metadata": {},
   "outputs": [
    {
     "data": {
      "text/html": [
       "<div>\n",
       "<style scoped>\n",
       "    .dataframe tbody tr th:only-of-type {\n",
       "        vertical-align: middle;\n",
       "    }\n",
       "\n",
       "    .dataframe tbody tr th {\n",
       "        vertical-align: top;\n",
       "    }\n",
       "\n",
       "    .dataframe thead th {\n",
       "        text-align: right;\n",
       "    }\n",
       "</style>\n",
       "<table border=\"1\" class=\"dataframe\">\n",
       "  <thead>\n",
       "    <tr style=\"text-align: right;\">\n",
       "      <th></th>\n",
       "      <th>id</th>\n",
       "      <th>gender</th>\n",
       "      <th>age</th>\n",
       "      <th>hypertension</th>\n",
       "      <th>heart_disease</th>\n",
       "      <th>ever_married</th>\n",
       "      <th>work_type</th>\n",
       "      <th>Residence_type</th>\n",
       "      <th>avg_glucose_level</th>\n",
       "      <th>bmi</th>\n",
       "      <th>smoking_status</th>\n",
       "      <th>stroke</th>\n",
       "    </tr>\n",
       "  </thead>\n",
       "  <tbody>\n",
       "    <tr>\n",
       "      <th>0</th>\n",
       "      <td>9046</td>\n",
       "      <td>1</td>\n",
       "      <td>67.0</td>\n",
       "      <td>0</td>\n",
       "      <td>1</td>\n",
       "      <td>1</td>\n",
       "      <td>2</td>\n",
       "      <td>1</td>\n",
       "      <td>228.69</td>\n",
       "      <td>36.600000</td>\n",
       "      <td>1</td>\n",
       "      <td>1</td>\n",
       "    </tr>\n",
       "    <tr>\n",
       "      <th>1</th>\n",
       "      <td>51676</td>\n",
       "      <td>0</td>\n",
       "      <td>61.0</td>\n",
       "      <td>0</td>\n",
       "      <td>0</td>\n",
       "      <td>1</td>\n",
       "      <td>3</td>\n",
       "      <td>0</td>\n",
       "      <td>202.21</td>\n",
       "      <td>28.893237</td>\n",
       "      <td>2</td>\n",
       "      <td>1</td>\n",
       "    </tr>\n",
       "    <tr>\n",
       "      <th>2</th>\n",
       "      <td>31112</td>\n",
       "      <td>1</td>\n",
       "      <td>80.0</td>\n",
       "      <td>0</td>\n",
       "      <td>1</td>\n",
       "      <td>1</td>\n",
       "      <td>2</td>\n",
       "      <td>0</td>\n",
       "      <td>105.92</td>\n",
       "      <td>32.500000</td>\n",
       "      <td>2</td>\n",
       "      <td>1</td>\n",
       "    </tr>\n",
       "    <tr>\n",
       "      <th>3</th>\n",
       "      <td>60182</td>\n",
       "      <td>0</td>\n",
       "      <td>49.0</td>\n",
       "      <td>0</td>\n",
       "      <td>0</td>\n",
       "      <td>1</td>\n",
       "      <td>2</td>\n",
       "      <td>1</td>\n",
       "      <td>171.23</td>\n",
       "      <td>34.400000</td>\n",
       "      <td>3</td>\n",
       "      <td>1</td>\n",
       "    </tr>\n",
       "    <tr>\n",
       "      <th>4</th>\n",
       "      <td>1665</td>\n",
       "      <td>0</td>\n",
       "      <td>79.0</td>\n",
       "      <td>1</td>\n",
       "      <td>0</td>\n",
       "      <td>1</td>\n",
       "      <td>3</td>\n",
       "      <td>0</td>\n",
       "      <td>174.12</td>\n",
       "      <td>24.000000</td>\n",
       "      <td>2</td>\n",
       "      <td>1</td>\n",
       "    </tr>\n",
       "  </tbody>\n",
       "</table>\n",
       "</div>"
      ],
      "text/plain": [
       "      id  gender   age  hypertension  heart_disease  ever_married  work_type  \\\n",
       "0   9046       1  67.0             0              1             1          2   \n",
       "1  51676       0  61.0             0              0             1          3   \n",
       "2  31112       1  80.0             0              1             1          2   \n",
       "3  60182       0  49.0             0              0             1          2   \n",
       "4   1665       0  79.0             1              0             1          3   \n",
       "\n",
       "   Residence_type  avg_glucose_level        bmi  smoking_status  stroke  \n",
       "0               1             228.69  36.600000               1       1  \n",
       "1               0             202.21  28.893237               2       1  \n",
       "2               0             105.92  32.500000               2       1  \n",
       "3               1             171.23  34.400000               3       1  \n",
       "4               0             174.12  24.000000               2       1  "
      ]
     },
     "execution_count": 32,
     "metadata": {},
     "output_type": "execute_result"
    }
   ],
   "source": [
    "df1.head()"
   ]
  },
  {
   "cell_type": "code",
   "execution_count": 33,
   "id": "7120909f",
   "metadata": {},
   "outputs": [
    {
     "name": "stdout",
     "output_type": "stream",
     "text": [
      "<class 'pandas.core.frame.DataFrame'>\n",
      "RangeIndex: 5110 entries, 0 to 5109\n",
      "Data columns (total 12 columns):\n",
      " #   Column             Non-Null Count  Dtype  \n",
      "---  ------             --------------  -----  \n",
      " 0   id                 5110 non-null   int64  \n",
      " 1   gender             5110 non-null   int64  \n",
      " 2   age                5110 non-null   float64\n",
      " 3   hypertension       5110 non-null   int64  \n",
      " 4   heart_disease      5110 non-null   int64  \n",
      " 5   ever_married       5110 non-null   int64  \n",
      " 6   work_type          5110 non-null   int64  \n",
      " 7   Residence_type     5110 non-null   int64  \n",
      " 8   avg_glucose_level  5110 non-null   float64\n",
      " 9   bmi                5110 non-null   float64\n",
      " 10  smoking_status     5110 non-null   int64  \n",
      " 11  stroke             5110 non-null   int64  \n",
      "dtypes: float64(3), int64(9)\n",
      "memory usage: 479.2 KB\n"
     ]
    }
   ],
   "source": [
    "df1.info()"
   ]
  },
  {
   "cell_type": "code",
   "execution_count": 35,
   "id": "8da01eb9",
   "metadata": {},
   "outputs": [
    {
     "data": {
      "text/html": [
       "<div>\n",
       "<style scoped>\n",
       "    .dataframe tbody tr th:only-of-type {\n",
       "        vertical-align: middle;\n",
       "    }\n",
       "\n",
       "    .dataframe tbody tr th {\n",
       "        vertical-align: top;\n",
       "    }\n",
       "\n",
       "    .dataframe thead th {\n",
       "        text-align: right;\n",
       "    }\n",
       "</style>\n",
       "<table border=\"1\" class=\"dataframe\">\n",
       "  <thead>\n",
       "    <tr style=\"text-align: right;\">\n",
       "      <th></th>\n",
       "      <th>id</th>\n",
       "      <th>gender</th>\n",
       "      <th>age</th>\n",
       "      <th>hypertension</th>\n",
       "      <th>heart_disease</th>\n",
       "      <th>ever_married</th>\n",
       "      <th>work_type</th>\n",
       "      <th>Residence_type</th>\n",
       "      <th>avg_glucose_level</th>\n",
       "      <th>bmi</th>\n",
       "      <th>smoking_status</th>\n",
       "      <th>stroke</th>\n",
       "    </tr>\n",
       "  </thead>\n",
       "  <tbody>\n",
       "    <tr>\n",
       "      <th>id</th>\n",
       "      <td>1.000000</td>\n",
       "      <td>0.002511</td>\n",
       "      <td>0.003538</td>\n",
       "      <td>0.003550</td>\n",
       "      <td>-0.001296</td>\n",
       "      <td>0.013690</td>\n",
       "      <td>-0.015757</td>\n",
       "      <td>-0.001403</td>\n",
       "      <td>0.001092</td>\n",
       "      <td>0.002999</td>\n",
       "      <td>0.014074</td>\n",
       "      <td>0.006388</td>\n",
       "    </tr>\n",
       "    <tr>\n",
       "      <th>gender</th>\n",
       "      <td>0.002511</td>\n",
       "      <td>1.000000</td>\n",
       "      <td>-0.028202</td>\n",
       "      <td>0.020994</td>\n",
       "      <td>0.085447</td>\n",
       "      <td>-0.031005</td>\n",
       "      <td>0.056422</td>\n",
       "      <td>-0.006738</td>\n",
       "      <td>0.055180</td>\n",
       "      <td>-0.026109</td>\n",
       "      <td>-0.062581</td>\n",
       "      <td>0.008929</td>\n",
       "    </tr>\n",
       "    <tr>\n",
       "      <th>age</th>\n",
       "      <td>0.003538</td>\n",
       "      <td>-0.028202</td>\n",
       "      <td>1.000000</td>\n",
       "      <td>0.276398</td>\n",
       "      <td>0.263796</td>\n",
       "      <td>0.679125</td>\n",
       "      <td>-0.361642</td>\n",
       "      <td>0.014180</td>\n",
       "      <td>0.238171</td>\n",
       "      <td>0.325942</td>\n",
       "      <td>0.265199</td>\n",
       "      <td>0.245257</td>\n",
       "    </tr>\n",
       "    <tr>\n",
       "      <th>hypertension</th>\n",
       "      <td>0.003550</td>\n",
       "      <td>0.020994</td>\n",
       "      <td>0.276398</td>\n",
       "      <td>1.000000</td>\n",
       "      <td>0.108306</td>\n",
       "      <td>0.164243</td>\n",
       "      <td>-0.051761</td>\n",
       "      <td>-0.007913</td>\n",
       "      <td>0.174474</td>\n",
       "      <td>0.160189</td>\n",
       "      <td>0.111038</td>\n",
       "      <td>0.127904</td>\n",
       "    </tr>\n",
       "    <tr>\n",
       "      <th>heart_disease</th>\n",
       "      <td>-0.001296</td>\n",
       "      <td>0.085447</td>\n",
       "      <td>0.263796</td>\n",
       "      <td>0.108306</td>\n",
       "      <td>1.000000</td>\n",
       "      <td>0.114644</td>\n",
       "      <td>-0.028023</td>\n",
       "      <td>0.003092</td>\n",
       "      <td>0.161857</td>\n",
       "      <td>0.038899</td>\n",
       "      <td>0.048460</td>\n",
       "      <td>0.134914</td>\n",
       "    </tr>\n",
       "    <tr>\n",
       "      <th>ever_married</th>\n",
       "      <td>0.013690</td>\n",
       "      <td>-0.031005</td>\n",
       "      <td>0.679125</td>\n",
       "      <td>0.164243</td>\n",
       "      <td>0.114644</td>\n",
       "      <td>1.000000</td>\n",
       "      <td>-0.352722</td>\n",
       "      <td>0.006261</td>\n",
       "      <td>0.155068</td>\n",
       "      <td>0.335705</td>\n",
       "      <td>0.259647</td>\n",
       "      <td>0.108340</td>\n",
       "    </tr>\n",
       "    <tr>\n",
       "      <th>work_type</th>\n",
       "      <td>-0.015757</td>\n",
       "      <td>0.056422</td>\n",
       "      <td>-0.361642</td>\n",
       "      <td>-0.051761</td>\n",
       "      <td>-0.028023</td>\n",
       "      <td>-0.352722</td>\n",
       "      <td>1.000000</td>\n",
       "      <td>-0.007316</td>\n",
       "      <td>-0.050513</td>\n",
       "      <td>-0.299448</td>\n",
       "      <td>-0.305927</td>\n",
       "      <td>-0.032316</td>\n",
       "    </tr>\n",
       "    <tr>\n",
       "      <th>Residence_type</th>\n",
       "      <td>-0.001403</td>\n",
       "      <td>-0.006738</td>\n",
       "      <td>0.014180</td>\n",
       "      <td>-0.007913</td>\n",
       "      <td>0.003092</td>\n",
       "      <td>0.006261</td>\n",
       "      <td>-0.007316</td>\n",
       "      <td>1.000000</td>\n",
       "      <td>-0.004946</td>\n",
       "      <td>-0.000120</td>\n",
       "      <td>0.008237</td>\n",
       "      <td>0.015458</td>\n",
       "    </tr>\n",
       "    <tr>\n",
       "      <th>avg_glucose_level</th>\n",
       "      <td>0.001092</td>\n",
       "      <td>0.055180</td>\n",
       "      <td>0.238171</td>\n",
       "      <td>0.174474</td>\n",
       "      <td>0.161857</td>\n",
       "      <td>0.155068</td>\n",
       "      <td>-0.050513</td>\n",
       "      <td>-0.004946</td>\n",
       "      <td>1.000000</td>\n",
       "      <td>0.168751</td>\n",
       "      <td>0.063437</td>\n",
       "      <td>0.131945</td>\n",
       "    </tr>\n",
       "    <tr>\n",
       "      <th>bmi</th>\n",
       "      <td>0.002999</td>\n",
       "      <td>-0.026109</td>\n",
       "      <td>0.325942</td>\n",
       "      <td>0.160189</td>\n",
       "      <td>0.038899</td>\n",
       "      <td>0.335705</td>\n",
       "      <td>-0.299448</td>\n",
       "      <td>-0.000120</td>\n",
       "      <td>0.168751</td>\n",
       "      <td>1.000000</td>\n",
       "      <td>0.219148</td>\n",
       "      <td>0.038947</td>\n",
       "    </tr>\n",
       "    <tr>\n",
       "      <th>smoking_status</th>\n",
       "      <td>0.014074</td>\n",
       "      <td>-0.062581</td>\n",
       "      <td>0.265199</td>\n",
       "      <td>0.111038</td>\n",
       "      <td>0.048460</td>\n",
       "      <td>0.259647</td>\n",
       "      <td>-0.305927</td>\n",
       "      <td>0.008237</td>\n",
       "      <td>0.063437</td>\n",
       "      <td>0.219148</td>\n",
       "      <td>1.000000</td>\n",
       "      <td>0.028123</td>\n",
       "    </tr>\n",
       "    <tr>\n",
       "      <th>stroke</th>\n",
       "      <td>0.006388</td>\n",
       "      <td>0.008929</td>\n",
       "      <td>0.245257</td>\n",
       "      <td>0.127904</td>\n",
       "      <td>0.134914</td>\n",
       "      <td>0.108340</td>\n",
       "      <td>-0.032316</td>\n",
       "      <td>0.015458</td>\n",
       "      <td>0.131945</td>\n",
       "      <td>0.038947</td>\n",
       "      <td>0.028123</td>\n",
       "      <td>1.000000</td>\n",
       "    </tr>\n",
       "  </tbody>\n",
       "</table>\n",
       "</div>"
      ],
      "text/plain": [
       "                         id    gender       age  hypertension  heart_disease  \\\n",
       "id                 1.000000  0.002511  0.003538      0.003550      -0.001296   \n",
       "gender             0.002511  1.000000 -0.028202      0.020994       0.085447   \n",
       "age                0.003538 -0.028202  1.000000      0.276398       0.263796   \n",
       "hypertension       0.003550  0.020994  0.276398      1.000000       0.108306   \n",
       "heart_disease     -0.001296  0.085447  0.263796      0.108306       1.000000   \n",
       "ever_married       0.013690 -0.031005  0.679125      0.164243       0.114644   \n",
       "work_type         -0.015757  0.056422 -0.361642     -0.051761      -0.028023   \n",
       "Residence_type    -0.001403 -0.006738  0.014180     -0.007913       0.003092   \n",
       "avg_glucose_level  0.001092  0.055180  0.238171      0.174474       0.161857   \n",
       "bmi                0.002999 -0.026109  0.325942      0.160189       0.038899   \n",
       "smoking_status     0.014074 -0.062581  0.265199      0.111038       0.048460   \n",
       "stroke             0.006388  0.008929  0.245257      0.127904       0.134914   \n",
       "\n",
       "                   ever_married  work_type  Residence_type  avg_glucose_level  \\\n",
       "id                     0.013690  -0.015757       -0.001403           0.001092   \n",
       "gender                -0.031005   0.056422       -0.006738           0.055180   \n",
       "age                    0.679125  -0.361642        0.014180           0.238171   \n",
       "hypertension           0.164243  -0.051761       -0.007913           0.174474   \n",
       "heart_disease          0.114644  -0.028023        0.003092           0.161857   \n",
       "ever_married           1.000000  -0.352722        0.006261           0.155068   \n",
       "work_type             -0.352722   1.000000       -0.007316          -0.050513   \n",
       "Residence_type         0.006261  -0.007316        1.000000          -0.004946   \n",
       "avg_glucose_level      0.155068  -0.050513       -0.004946           1.000000   \n",
       "bmi                    0.335705  -0.299448       -0.000120           0.168751   \n",
       "smoking_status         0.259647  -0.305927        0.008237           0.063437   \n",
       "stroke                 0.108340  -0.032316        0.015458           0.131945   \n",
       "\n",
       "                        bmi  smoking_status    stroke  \n",
       "id                 0.002999        0.014074  0.006388  \n",
       "gender            -0.026109       -0.062581  0.008929  \n",
       "age                0.325942        0.265199  0.245257  \n",
       "hypertension       0.160189        0.111038  0.127904  \n",
       "heart_disease      0.038899        0.048460  0.134914  \n",
       "ever_married       0.335705        0.259647  0.108340  \n",
       "work_type         -0.299448       -0.305927 -0.032316  \n",
       "Residence_type    -0.000120        0.008237  0.015458  \n",
       "avg_glucose_level  0.168751        0.063437  0.131945  \n",
       "bmi                1.000000        0.219148  0.038947  \n",
       "smoking_status     0.219148        1.000000  0.028123  \n",
       "stroke             0.038947        0.028123  1.000000  "
      ]
     },
     "execution_count": 35,
     "metadata": {},
     "output_type": "execute_result"
    }
   ],
   "source": [
    "df1.corr()"
   ]
  },
  {
   "cell_type": "code",
   "execution_count": 41,
   "id": "4c5a9e04",
   "metadata": {},
   "outputs": [
    {
     "name": "stdout",
     "output_type": "stream",
     "text": [
      "gender\n",
      "3\n",
      "************\n",
      "age\n",
      "104\n",
      "************\n",
      "hypertension\n",
      "2\n",
      "************\n",
      "heart_disease\n",
      "2\n",
      "************\n",
      "ever_married\n",
      "2\n",
      "************\n",
      "work_type\n",
      "5\n",
      "************\n",
      "Residence_type\n",
      "2\n",
      "************\n",
      "avg_glucose_level\n",
      "3979\n",
      "************\n",
      "bmi\n",
      "419\n",
      "************\n",
      "smoking_status\n",
      "4\n",
      "************\n",
      "stroke\n",
      "2\n",
      "************\n",
      "['gender', 'hypertension', 'heart_disease', 'ever_married', 'work_type', 'Residence_type', 'smoking_status', 'stroke']\n",
      "['age', 'avg_glucose_level', 'bmi']\n"
     ]
    }
   ],
   "source": [
    "for i in df1.columns:\n",
    "    print(i)\n",
    "    print(df1[i].nunique())\n",
    "    print(\"************\")\n",
    "category = []\n",
    "continues =[]\n",
    "threshold=10\n",
    "for i in df1.columns:\n",
    "    if df1[i].nunique()<threshold:\n",
    "        category.append(i)\n",
    "    else:\n",
    "        continues.append(i)\n",
    "print(category)\n",
    "print(continues)"
   ]
  },
  {
   "cell_type": "code",
   "execution_count": 40,
   "id": "3eac1432",
   "metadata": {},
   "outputs": [],
   "source": [
    "df1.drop(\"id\",axis=1,inplace=True)"
   ]
  },
  {
   "cell_type": "code",
   "execution_count": 42,
   "id": "0403b579",
   "metadata": {},
   "outputs": [],
   "source": [
    "from scipy import stats"
   ]
  },
  {
   "cell_type": "code",
   "execution_count": 43,
   "id": "1fbf574f",
   "metadata": {},
   "outputs": [],
   "source": [
    "#continues vs continues -->2sample ttest\n",
    "def two_sample(d1,d2):\n",
    "    f=0\n",
    "    t=0\n",
    "    for i in range(0,31):\n",
    "        sample1=d1.sample(frac=0.02)\n",
    "        sample2=d2.sample(frac=0.02)\n",
    "        f_test,p_value=stats.ttest_ind(sample1,sample2)\n",
    "        if p_value<0.05:\n",
    "            f=f+1\n",
    "        else:\n",
    "            t=t+1\n",
    "    if f<t:\n",
    "        return True\n",
    "    else:\n",
    "        return False"
   ]
  },
  {
   "cell_type": "code",
   "execution_count": 51,
   "id": "62805269",
   "metadata": {},
   "outputs": [],
   "source": [
    "#category vs continues-->annova test\n",
    "def annova(d1,d2):\n",
    "    group=df1[d2].unique()\n",
    "    data={}\n",
    "    for i in group:\n",
    "        data[i]=df1[d1][df1[d2]==i]\n",
    "    f_test,p_value=stats.f_oneway(*[i for i in data.values()])\n",
    "    if p_value<0.05:\n",
    "        return False\n",
    "    else:\n",
    "        return True\n"
   ]
  },
  {
   "cell_type": "code",
   "execution_count": 49,
   "id": "99d8c913",
   "metadata": {},
   "outputs": [],
   "source": [
    "#category vs category-->chisquare\n",
    "def chisquare(d1,d2):\n",
    "    crosstab=pd.crosstab(d1,d2)\n",
    "    chi2,dof,p_val,e_val=stats.chi2_contingency(crosstab)\n",
    "    if p_val<0.05:\n",
    "        return True\n",
    "    else:\n",
    "        return False\n"
   ]
  },
  {
   "cell_type": "code",
   "execution_count": 52,
   "id": "1e35165c",
   "metadata": {},
   "outputs": [],
   "source": [
    "final = {}\n",
    "for i in df1.columns:\n",
    "    final[i]={}\n",
    "    for j in df1.columns:\n",
    "        if (i in continues) and (j in continues):\n",
    "            result = two_sample(df1[i],df1[j])\n",
    "        elif (i in continues) and (j in category):\n",
    "            result = annova(i,j)\n",
    "        elif (j in continues) and (i in category):\n",
    "            result = annova(j,i)\n",
    "        elif (i in category) and (j in category):\n",
    "            result = chisquare(df1[i],df1[j])\n",
    "        if result:\n",
    "            final[i][j] = 1\n",
    "        else:\n",
    "            final[i][j] = 0\n"
   ]
  },
  {
   "cell_type": "code",
   "execution_count": 53,
   "id": "596f429f",
   "metadata": {},
   "outputs": [
    {
     "name": "stdout",
     "output_type": "stream",
     "text": [
      "{'Residence_type': {'Residence_type': 0,\n",
      "                    'age': 1,\n",
      "                    'avg_glucose_level': 1,\n",
      "                    'bmi': 1,\n",
      "                    'ever_married': 0,\n",
      "                    'gender': 0,\n",
      "                    'heart_disease': 0,\n",
      "                    'hypertension': 0,\n",
      "                    'smoking_status': 0,\n",
      "                    'stroke': 0,\n",
      "                    'work_type': 0},\n",
      " 'age': {'Residence_type': 1,\n",
      "         'age': 1,\n",
      "         'avg_glucose_level': 0,\n",
      "         'bmi': 0,\n",
      "         'ever_married': 0,\n",
      "         'gender': 1,\n",
      "         'heart_disease': 0,\n",
      "         'hypertension': 0,\n",
      "         'smoking_status': 0,\n",
      "         'stroke': 0,\n",
      "         'work_type': 0},\n",
      " 'avg_glucose_level': {'Residence_type': 1,\n",
      "                       'age': 0,\n",
      "                       'avg_glucose_level': 1,\n",
      "                       'bmi': 0,\n",
      "                       'ever_married': 0,\n",
      "                       'gender': 0,\n",
      "                       'heart_disease': 0,\n",
      "                       'hypertension': 0,\n",
      "                       'smoking_status': 0,\n",
      "                       'stroke': 0,\n",
      "                       'work_type': 0},\n",
      " 'bmi': {'Residence_type': 1,\n",
      "         'age': 0,\n",
      "         'avg_glucose_level': 0,\n",
      "         'bmi': 1,\n",
      "         'ever_married': 0,\n",
      "         'gender': 1,\n",
      "         'heart_disease': 0,\n",
      "         'hypertension': 0,\n",
      "         'smoking_status': 0,\n",
      "         'stroke': 0,\n",
      "         'work_type': 0},\n",
      " 'ever_married': {'Residence_type': 0,\n",
      "                  'age': 0,\n",
      "                  'avg_glucose_level': 0,\n",
      "                  'bmi': 0,\n",
      "                  'ever_married': 0,\n",
      "                  'gender': 0,\n",
      "                  'heart_disease': 0,\n",
      "                  'hypertension': 0,\n",
      "                  'smoking_status': 0,\n",
      "                  'stroke': 0,\n",
      "                  'work_type': 0},\n",
      " 'gender': {'Residence_type': 0,\n",
      "            'age': 1,\n",
      "            'avg_glucose_level': 0,\n",
      "            'bmi': 1,\n",
      "            'ever_married': 0,\n",
      "            'gender': 0,\n",
      "            'heart_disease': 0,\n",
      "            'hypertension': 0,\n",
      "            'smoking_status': 0,\n",
      "            'stroke': 0,\n",
      "            'work_type': 0},\n",
      " 'heart_disease': {'Residence_type': 0,\n",
      "                   'age': 0,\n",
      "                   'avg_glucose_level': 0,\n",
      "                   'bmi': 0,\n",
      "                   'ever_married': 0,\n",
      "                   'gender': 0,\n",
      "                   'heart_disease': 0,\n",
      "                   'hypertension': 0,\n",
      "                   'smoking_status': 0,\n",
      "                   'stroke': 0,\n",
      "                   'work_type': 0},\n",
      " 'hypertension': {'Residence_type': 0,\n",
      "                  'age': 0,\n",
      "                  'avg_glucose_level': 0,\n",
      "                  'bmi': 0,\n",
      "                  'ever_married': 0,\n",
      "                  'gender': 0,\n",
      "                  'heart_disease': 0,\n",
      "                  'hypertension': 0,\n",
      "                  'smoking_status': 0,\n",
      "                  'stroke': 0,\n",
      "                  'work_type': 0},\n",
      " 'smoking_status': {'Residence_type': 0,\n",
      "                    'age': 0,\n",
      "                    'avg_glucose_level': 0,\n",
      "                    'bmi': 0,\n",
      "                    'ever_married': 0,\n",
      "                    'gender': 0,\n",
      "                    'heart_disease': 0,\n",
      "                    'hypertension': 0,\n",
      "                    'smoking_status': 0,\n",
      "                    'stroke': 0,\n",
      "                    'work_type': 0},\n",
      " 'stroke': {'Residence_type': 0,\n",
      "            'age': 0,\n",
      "            'avg_glucose_level': 0,\n",
      "            'bmi': 0,\n",
      "            'ever_married': 0,\n",
      "            'gender': 0,\n",
      "            'heart_disease': 0,\n",
      "            'hypertension': 0,\n",
      "            'smoking_status': 0,\n",
      "            'stroke': 0,\n",
      "            'work_type': 0},\n",
      " 'work_type': {'Residence_type': 0,\n",
      "               'age': 0,\n",
      "               'avg_glucose_level': 0,\n",
      "               'bmi': 0,\n",
      "               'ever_married': 0,\n",
      "               'gender': 0,\n",
      "               'heart_disease': 0,\n",
      "               'hypertension': 0,\n",
      "               'smoking_status': 0,\n",
      "               'stroke': 0,\n",
      "               'work_type': 0}}\n"
     ]
    }
   ],
   "source": [
    "import pprint\n",
    "pprint.pprint(final)"
   ]
  },
  {
   "cell_type": "code",
   "execution_count": 54,
   "id": "f8bc8a91",
   "metadata": {},
   "outputs": [],
   "source": [
    "final_df=pd.DataFrame(final)"
   ]
  },
  {
   "cell_type": "code",
   "execution_count": 56,
   "id": "c91b282b",
   "metadata": {},
   "outputs": [
    {
     "data": {
      "text/plain": [
       "<Axes: >"
      ]
     },
     "execution_count": 56,
     "metadata": {},
     "output_type": "execute_result"
    },
    {
     "data": {
      "image/png": "[encoded data removed]",
      "text/plain": [
       "<Figure size 640x480 with 2 Axes>"
      ]
     },
     "metadata": {},
     "output_type": "display_data"
    }
   ],
   "source": [
    "import seaborn as sns\n",
    "\n",
    "sns.heatmap(final_df,cmap=\"coolwarm\",annot=True)"
   ]
  },
  {
   "cell_type": "code",
   "execution_count": 58,
   "id": "fd73e801",
   "metadata": {},
   "outputs": [
    {
     "name": "stdout",
     "output_type": "stream",
     "text": [
      "********************\n",
      "age\n",
      "-0.1370593225984694 -0.9910102432016696\n",
      "********************\n",
      "avg_glucose_level\n",
      "1.5722838665030459 1.6804785404038278\n",
      "********************\n",
      "bmi\n",
      "1.0767160713842094 3.6230613267307876\n",
      "['avg_glucose_level', 'bmi']\n"
     ]
    }
   ],
   "source": [
    "from scipy.stats import kurtosis , boxcox\n",
    "\n",
    "for i in continues:\n",
    "    print(\"********************\")\n",
    "    print(i)\n",
    "    print(df1[i].skew(),df1[i].kurtosis())\n",
    "\n",
    "apply = []\n",
    "\n",
    "for i in continues:\n",
    "    if df1[i].skew() > 0.7 or df1[i].skew() < -0.7 or df1[i].kurtosis() < -1 or df1[i].kurtosis() > 1:\n",
    "        apply.append(i)\n",
    "print(apply)\n"
   ]
  },
  {
   "cell_type": "code",
   "execution_count": 60,
   "id": "fb24173b",
   "metadata": {},
   "outputs": [
    {
     "name": "stdout",
     "output_type": "stream",
     "text": [
      "**********************************\n",
      "avg_glucose_level\n",
      "-----------\n",
      "0.5\tskew: 1.2427\tkurtosis: 0.8289\n",
      "-0.5\tskew: 0.5049\tkurtosis: -0.3051\n",
      "1\tskew: 1.5723\tkurtosis: 1.6805\n",
      "-1\tskew: 0.1258\tkurtosis: -0.4934\n",
      "0\tskew: 0.8828\tkurtosis: 0.1482\n",
      "2\tskew: 2.1289\tkurtosis: 3.7277\n",
      "-2\tskew: -0.5822\tkurtosis: -0.1002\n",
      "**********************************\n",
      "bmi\n",
      "-----------\n",
      "0.5\tskew: nan\tkurtosis: nan\n",
      "-0.5\tskew: nan\tkurtosis: nan\n",
      "1\tskew: nan\tkurtosis: nan\n",
      "-1\tskew: nan\tkurtosis: nan\n",
      "0\tskew: nan\tkurtosis: nan\n",
      "2\tskew: nan\tkurtosis: nan\n",
      "-2\tskew: nan\tkurtosis: nan\n"
     ]
    }
   ],
   "source": [
    "method=[0.5,-0.5,1,-1,0,2,-2]\n",
    "for i in apply:\n",
    "    print(\"**********************************\")\n",
    "    print(i)\n",
    "    print(\"-----------\")\n",
    "    \n",
    "    # Clean column first\n",
    "    col = pd.to_numeric(df[i], errors='coerce')  # convert to numeric, coerce errors\n",
    "    col = col.dropna()                           # remove missing values\n",
    "    col = col[col > 0]                           # boxcox only works on positive numbers\n",
    "\n",
    "    for j in method:\n",
    "        try:\n",
    "            transformed = boxcox(col, lmbda=j)\n",
    "            print(f\"{j}\\tskew: {pd.Series(transformed).skew():.4f}\\tkurtosis: {pd.Series(transformed).kurtosis():.4f}\")\n",
    "        except Exception as e:\n",
    "            print(f\"{j}\\tError: {e}\")"
   ]
  },
  {
   "cell_type": "code",
   "execution_count": 61,
   "id": "6f6b3e69",
   "metadata": {},
   "outputs": [],
   "source": [
    "from sklearn.model_selection import train_test_split"
   ]
  },
  {
   "cell_type": "code",
   "execution_count": 62,
   "id": "d8bba6d1",
   "metadata": {},
   "outputs": [],
   "source": [
    "x=df1.drop(\"stroke\",axis=1)\n",
    "y=df1[\"stroke\"]"
   ]
  },
  {
   "cell_type": "code",
   "execution_count": 74,
   "id": "57b47e31",
   "metadata": {},
   "outputs": [],
   "source": [
    "x_train, x_test, y_train, y_test = train_test_split(x, y, test_size=0.2, random_state=42)"
   ]
  },
  {
   "cell_type": "code",
   "execution_count": 64,
   "id": "322bdb92",
   "metadata": {},
   "outputs": [],
   "source": [
    "from sklearn.metrics import accuracy_score,confusion_matrix,classification_report"
   ]
  },
  {
   "cell_type": "code",
   "execution_count": 68,
   "id": "75918a19",
   "metadata": {},
   "outputs": [
    {
     "name": "stdout",
     "output_type": "stream",
     "text": [
      "<class 'pandas.core.frame.DataFrame'>\n",
      "(1022, 10)\n",
      "      gender   age  hypertension  heart_disease  ever_married  work_type  \\\n",
      "1192       0  20.0             0              0             0          2   \n",
      "4486       1  14.0             0              0             0          2   \n",
      "2026       1  37.0             0              0             1          3   \n",
      "4435       1   7.0             0              0             0          4   \n",
      "3907       0  57.0             0              0             1          2   \n",
      "\n",
      "      Residence_type  avg_glucose_level   bmi  smoking_status  \n",
      "1192               0              78.94  20.7               2  \n",
      "4486               1             126.57  25.9               1  \n",
      "2026               0              82.43  39.1               0  \n",
      "4435               0             103.50  19.0               0  \n",
      "3907               0              65.91  28.2               0  \n"
     ]
    }
   ],
   "source": [
    "print(type(y_train))\n",
    "print(y_train.shape)\n",
    "print(y_train[:5])"
   ]
  },
  {
   "cell_type": "code",
   "execution_count": 70,
   "id": "0e7989b4",
   "metadata": {},
   "outputs": [],
   "source": [
    "import numpy as np\n",
    "\n",
    "# Only apply argmax if array is 2D (one-hot)\n",
    "if len(y_train.shape) > 1:\n",
    "    y_train = np.argmax(y_train, axis=1)\n",
    "\n",
    "if len(y_test.shape) > 1:\n",
    "    y_test = np.argmax(y_test, axis=1)"
   ]
  },
  {
   "cell_type": "code",
   "execution_count": 75,
   "id": "1eaacb3f",
   "metadata": {},
   "outputs": [
    {
     "name": "stdout",
     "output_type": "stream",
     "text": [
      "              precision    recall  f1-score   support\n",
      "\n",
      "           0       0.94      1.00      0.97       960\n",
      "           1       0.00      0.00      0.00        62\n",
      "\n",
      "    accuracy                           0.94      1022\n",
      "   macro avg       0.47      0.50      0.48      1022\n",
      "weighted avg       0.88      0.94      0.91      1022\n",
      "\n"
     ]
    },
    {
     "name": "stderr",
     "output_type": "stream",
     "text": [
      "c:\\Users\\dharm\\AppData\\Local\\Programs\\Python\\Python310\\lib\\site-packages\\sklearn\\metrics\\_classification.py:1565: UndefinedMetricWarning: Precision is ill-defined and being set to 0.0 in labels with no predicted samples. Use `zero_division` parameter to control this behavior.\n",
      "  _warn_prf(average, modifier, f\"{metric.capitalize()} is\", len(result))\n",
      "c:\\Users\\dharm\\AppData\\Local\\Programs\\Python\\Python310\\lib\\site-packages\\sklearn\\metrics\\_classification.py:1565: UndefinedMetricWarning: Precision is ill-defined and being set to 0.0 in labels with no predicted samples. Use `zero_division` parameter to control this behavior.\n",
      "  _warn_prf(average, modifier, f\"{metric.capitalize()} is\", len(result))\n",
      "c:\\Users\\dharm\\AppData\\Local\\Programs\\Python\\Python310\\lib\\site-packages\\sklearn\\metrics\\_classification.py:1565: UndefinedMetricWarning: Precision is ill-defined and being set to 0.0 in labels with no predicted samples. Use `zero_division` parameter to control this behavior.\n",
      "  _warn_prf(average, modifier, f\"{metric.capitalize()} is\", len(result))\n"
     ]
    }
   ],
   "source": [
    "from sklearn.svm import SVC\n",
    "from sklearn.metrics import classification_report\n",
    "\n",
    "# Fix shape if needed\n",
    "if len(y_train.shape) > 1:\n",
    "    y_train = np.argmax(y_train, axis=1)\n",
    "\n",
    "if len(y_test.shape) > 1:\n",
    "    y_test = np.argmax(y_test, axis=1)\n",
    "\n",
    "# Train and predict\n",
    "model = SVC()\n",
    "model.fit(x_train, y_train)\n",
    "y_predict = model.predict(x_test)\n",
    "\n",
    "print(classification_report(y_test, y_predict))"
   ]
  },
  {
   "cell_type": "code",
   "execution_count": 76,
   "id": "5158a161",
   "metadata": {},
   "outputs": [],
   "source": [
    "from sklearn.ensemble import RandomForestClassifier"
   ]
  },
  {
   "cell_type": "code",
   "execution_count": 89,
   "id": "7e43dfd6",
   "metadata": {},
   "outputs": [
    {
     "name": "stdout",
     "output_type": "stream",
     "text": [
      "              precision    recall  f1-score   support\n",
      "\n",
      "           0       0.95      0.95      0.95       960\n",
      "           1       0.20      0.21      0.21        62\n",
      "\n",
      "    accuracy                           0.90      1022\n",
      "   macro avg       0.58      0.58      0.58      1022\n",
      "weighted avg       0.90      0.90      0.90      1022\n",
      "\n"
     ]
    }
   ],
   "source": [
    "model=RandomForestClassifier()\n",
    "model.fit(x_train_new, y_train_new)\n",
    "y_predict=model.predict(x_test)\n",
    "print(classification_report(y_test,y_predict))\n"
   ]
  },
  {
   "cell_type": "code",
   "execution_count": 90,
   "id": "687fab50",
   "metadata": {},
   "outputs": [
    {
     "name": "stdout",
     "output_type": "stream",
     "text": [
      "              precision    recall  f1-score   support\n",
      "\n",
      "           0       0.95      0.95      0.95       960\n",
      "           1       0.19      0.18      0.18        62\n",
      "\n",
      "    accuracy                           0.90      1022\n",
      "   macro avg       0.57      0.56      0.57      1022\n",
      "weighted avg       0.90      0.90      0.90      1022\n",
      "\n"
     ]
    }
   ],
   "source": [
    "from sklearn.tree import DecisionTreeClassifier\n",
    "model=RandomForestClassifier().fit(x_train_new, y_train_new)\n",
    "y_predict=model.predict(x_test)\n",
    "print(classification_report(y_test,y_predict))"
   ]
  },
  {
   "cell_type": "code",
   "execution_count": 91,
   "id": "435b9b19",
   "metadata": {},
   "outputs": [
    {
     "name": "stdout",
     "output_type": "stream",
     "text": [
      "              precision    recall  f1-score   support\n",
      "\n",
      "           0       0.95      0.95      0.95       960\n",
      "           1       0.19      0.18      0.18        62\n",
      "\n",
      "    accuracy                           0.90      1022\n",
      "   macro avg       0.57      0.56      0.57      1022\n",
      "weighted avg       0.90      0.90      0.90      1022\n",
      "\n"
     ]
    }
   ],
   "source": [
    "from sklearn.ensemble import GradientBoostingClassifier\n",
    "model=RandomForestClassifier().fit(x_train_new, y_train_new)\n",
    "y_predict=model.predict(x_test)\n",
    "print(classification_report(y_test,y_predict))"
   ]
  },
  {
   "cell_type": "code",
   "execution_count": 80,
   "id": "e6f22d7e",
   "metadata": {},
   "outputs": [
    {
     "data": {
      "text/plain": [
       "stroke\n",
       "0    4861\n",
       "1     249\n",
       "Name: count, dtype: int64"
      ]
     },
     "execution_count": 80,
     "metadata": {},
     "output_type": "execute_result"
    }
   ],
   "source": [
    "df1['stroke'].value_counts()"
   ]
  },
  {
   "cell_type": "code",
   "execution_count": 82,
   "id": "2c9f1866",
   "metadata": {},
   "outputs": [
    {
     "name": "stdout",
     "output_type": "stream",
     "text": [
      "Collecting imbalanced-learn\n",
      "  Downloading imbalanced_learn-0.13.0-py3-none-any.whl (238 kB)\n",
      "     ---------------------------------------- 0.0/238.4 kB ? eta -:--:--\n",
      "     ------ ------------------------------ 41.0/238.4 kB 667.8 kB/s eta 0:00:01\n",
      "     ----------- ------------------------- 71.7/238.4 kB 660.6 kB/s eta 0:00:01\n",
      "     ----------- ------------------------- 71.7/238.4 kB 660.6 kB/s eta 0:00:01\n",
      "     ----------- ------------------------- 71.7/238.4 kB 660.6 kB/s eta 0:00:01\n",
      "     ----------------- ------------------ 112.6/238.4 kB 437.6 kB/s eta 0:00:01\n",
      "     --------------------- -------------- 143.4/238.4 kB 532.5 kB/s eta 0:00:01\n",
      "     -----------------------------------  235.5/238.4 kB 686.8 kB/s eta 0:00:01\n",
      "     ------------------------------------ 238.4/238.4 kB 665.1 kB/s eta 0:00:00\n",
      "Collecting sklearn-compat<1,>=0.1\n",
      "  Downloading sklearn_compat-0.1.3-py3-none-any.whl (18 kB)\n",
      "Requirement already satisfied: scipy<2,>=1.10.1 in c:\\users\\dharm\\appdata\\local\\programs\\python\\python310\\lib\\site-packages (from imbalanced-learn) (1.15.3)\n",
      "Requirement already satisfied: joblib<2,>=1.1.1 in c:\\users\\dharm\\appdata\\local\\programs\\python\\python310\\lib\\site-packages (from imbalanced-learn) (1.5.0)\n",
      "Requirement already satisfied: scikit-learn<2,>=1.3.2 in c:\\users\\dharm\\appdata\\local\\programs\\python\\python310\\lib\\site-packages (from imbalanced-learn) (1.6.1)\n",
      "Requirement already satisfied: numpy<3,>=1.24.3 in c:\\users\\dharm\\appdata\\local\\programs\\python\\python310\\lib\\site-packages (from imbalanced-learn) (2.2.6)\n",
      "Requirement already satisfied: threadpoolctl<4,>=2.0.0 in c:\\users\\dharm\\appdata\\local\\programs\\python\\python310\\lib\\site-packages (from imbalanced-learn) (3.6.0)\n",
      "Installing collected packages: sklearn-compat, imbalanced-learn\n",
      "Successfully installed imbalanced-learn-0.13.0 sklearn-compat-0.1.3\n"
     ]
    },
    {
     "name": "stderr",
     "output_type": "stream",
     "text": [
      "\n",
      "[notice] A new release of pip is available: 23.0.1 -> 25.1.1\n",
      "[notice] To update, run: python.exe -m pip install --upgrade pip\n"
     ]
    }
   ],
   "source": [
    "!pip install imbalanced-learn"
   ]
  },
  {
   "cell_type": "code",
   "execution_count": 83,
   "id": "b416a700",
   "metadata": {},
   "outputs": [],
   "source": [
    "from imblearn.over_sampling import SMOTE"
   ]
  },
  {
   "cell_type": "code",
   "execution_count": 85,
   "id": "08ff6810",
   "metadata": {},
   "outputs": [],
   "source": [
    "smote=SMOTE()\n",
    "x_train_new,y_train_new=smote.fit_resample(x_train,y_train)"
   ]
  },
  {
   "cell_type": "code",
   "execution_count": 87,
   "id": "ec367086",
   "metadata": {},
   "outputs": [
    {
     "name": "stdout",
     "output_type": "stream",
     "text": [
      "stroke\n",
      "0    3901\n",
      "1     187\n",
      "Name: count, dtype: int64\n",
      "stroke\n",
      "0    3901\n",
      "1    3901\n",
      "Name: count, dtype: int64\n"
     ]
    }
   ],
   "source": [
    "print(y_train.value_counts())    # Before SMOTE\n",
    "print(y_train_new.value_counts()) "
   ]
  },
  {
   "cell_type": "code",
   "execution_count": 92,
   "id": "6d536000",
   "metadata": {},
   "outputs": [],
   "source": [
    "import pickle\n",
    "\n",
    "# Save the trained model\n",
    "with open('random_forest_model.pkl', 'wb') as file:\n",
    "    pickle.dump(model, file)"
   ]
  },
  {
   "cell_type": "code",
   "execution_count": null,
   "id": "de3d225d",
   "metadata": {},
   "outputs": [],
   "source": []
  }
 ],
 "metadata": {
  "kernelspec": {
   "display_name": "Python 3",
   "language": "python",
   "name": "python3"
  },
  "language_info": {
   "codemirror_mode": {
    "name": "ipython",
    "version": 3
   },
   "file_extension": ".py",
   "mimetype": "text/x-python",
   "name": "python",
   "nbconvert_exporter": "python",
   "pygments_lexer": "ipython3",
   "version": "3.10.11"
  }
 },
 "nbformat": 4,
 "nbformat_minor": 5
}
